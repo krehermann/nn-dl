{
 "metadata": {
  "language_info": {
   "codemirror_mode": {
    "name": "ipython",
    "version": 3
   },
   "file_extension": ".py",
   "mimetype": "text/x-python",
   "name": "python",
   "nbconvert_exporter": "python",
   "pygments_lexer": "ipython3",
   "version": "3.7.9-final"
  },
  "orig_nbformat": 2,
  "kernelspec": {
   "name": "python37964bitqc375f9fb7eeb1934e419a8baaab3bb1a500",
   "display_name": "Python 3.7.9 64-bit ('qc-3.7')",
   "language": "python"
  }
 },
 "nbformat": 4,
 "nbformat_minor": 2,
 "cells": [
  {
   "cell_type": "code",
   "execution_count": 2,
   "metadata": {},
   "outputs": [
    {
     "output_type": "stream",
     "name": "stdout",
     "text": [
      "yo\n"
     ]
    }
   ],
   "source": [
    "#Follow along exercises with http://neuralnetworksanddeeplearning.com/chap1.html\n",
    "print(\"yo\")"
   ]
  },
  {
   "source": [
    "Does this render in github?\n"
   ],
   "cell_type": "markdown",
   "metadata": {}
  },
  {
   "source": [
    "Notes:\n",
    "Perceptrons sufficient for universal computation because the can implement NAND. Kinda cool way to introduce them\n",
    "\n",
    "$$w \\dot x = \\sum w_j x_j$$\n",
    "\n",
    "Exercise: NAND gate for addition\n",
    "TODO: hack latex drawing here\n",
    "x1 x2  a == NAND(x1,x2) b == NAND(x1,a) c== NAND(x2,a) low_bit == NAND(b,c) carry_bit== NAND(a,a)  result   base10\n",
    "0  0        1            1                  1               0                   0                   00          0\n",
    "0  1        1            1                  0               1                   0                   01          1\n",
    "1  1        0            1                  1               0                   1                   10          2\n",
    "\n",
    "Since Perceptrons can implment NAND, the can do this too\n"
   ],
   "cell_type": "markdown",
   "metadata": {}
  },
  {
   "source": [],
   "cell_type": "markdown",
   "metadata": {}
  },
  {
   "source": [],
   "cell_type": "markdown",
   "metadata": {}
  }
 ]
}