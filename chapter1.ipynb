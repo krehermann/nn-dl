{
 "metadata": {
  "language_info": {
   "codemirror_mode": {
    "name": "ipython",
    "version": 3
   },
   "file_extension": ".py",
   "mimetype": "text/x-python",
   "name": "python",
   "nbconvert_exporter": "python",
   "pygments_lexer": "ipython3",
   "version": "3.7.9-final"
  },
  "orig_nbformat": 2,
  "kernelspec": {
   "name": "python37964bitqc375f9fb7eeb1934e419a8baaab3bb1a500",
   "display_name": "Python 3.7.9 64-bit ('qc-3.7')",
   "language": "python"
  }
 },
 "nbformat": 4,
 "nbformat_minor": 2,
 "cells": [
  {
   "cell_type": "code",
   "execution_count": 2,
   "metadata": {},
   "outputs": [
    {
     "output_type": "stream",
     "name": "stdout",
     "text": [
      "yo\n"
     ]
    }
   ],
   "source": [
    "#Follow along exercises with http://neuralnetworksanddeeplearning.com/chap1.html\n",
    "print(\"yo\")"
   ]
  },
  {
   "source": [
    "Does this render in github?\n"
   ],
   "cell_type": "markdown",
   "metadata": {}
  },
  {
   "source": [
    "Notes:\n",
    "Perceptrons sufficient for universal computation because the can implement NAND. Kinda cool way to introduce them\n",
    "\n",
    "$$w \\cdot x = \\sum w_j x_j$$\n",
    "\n",
    "Exercise: NAND gate for addition\n",
    "TODO: hack latex drawing here\n",
    "x1 x2  a == NAND(x1,x2) b == NAND(x1,a) c== NAND(x2,a) low_bit == NAND(b,c) carry_bit== NAND(a,a)  result   base10\n",
    "0  0        1            1                  1               0                   0                   00          0\n",
    "0  1        1            1                  0               1                   0                   01          1\n",
    "1  1        0            1                  1               0                   1                   10          2\n",
    "\n",
    "Since Perceptrons can implment NAND, the can do this too\n"
   ],
   "cell_type": "markdown",
   "metadata": {}
  },
  {
   "source": [
    "Exercise: Sigmoid neurons simulating perceptrons, part I \n",
    "Suppose we take all the weights and biases in a network of perceptrons, and multiply them by a positive constant, c>0. Show that the behaviour of the network doesn't change.\n",
    "\n",
    "The activation are invariant under constant rescaling since you can write\n",
    "$$w \\cdot x > b $$\n",
    "\n",
    "and $$w \\cdot x >b \\implies K(w \\cdot x) > Kb$$"
   ],
   "cell_type": "markdown",
   "metadata": {}
  },
  {
   "source": [
    "Exercise: Sigmoid neurons simulating perceptrons, part II \n",
    "Suppose we have the same setup as the last problem - a network of perceptrons. Suppose also that the overall input to the network of perceptrons has been chosen. We won't need the actual input value, we just need the input to have been fixed. Suppose the weights and biases are such that w⋅x+b≠0 for the input x to any particular perceptron in the network. Now replace all the perceptrons in the network by sigmoid neurons, and multiply the weights and biases by a positive constant c>0. Show that in the limit as c→∞ the behaviour of this network of sigmoid neurons is exactly the same as the network of perceptrons. How can this fail when w⋅x+b=0 for one of the perceptrons?\n",
    "\n",
    "Well, sigmoid neurons is given by\n",
    "$$\\sigma(z) = \\frac{1}{1+\\exp^{-z}} $$\n",
    "$$ \\lim_{z->\\infty} \\sigma \\rightarrow 0$$\n",
    "$$ \\lim_{z->-\\infty} \\sigma \\rightarrow 1$$\n",
    "and if $z = c w\\cdot x$ then the sigmoid limit become undefined as $|c| \\rightarrow \\infty$ and $w \\cdot x \\rightarrow 0$\n"
   ],
   "cell_type": "markdown",
   "metadata": {}
  },
  {
   "source": [
    "Exercis: There is a way of determining the bitwise representation of a digit by adding an extra layer to the three-layer network above. The extra layer converts the output from the previous layer into a binary representation, as illustrated in the figure below. Find a set of weights and biases for the new output layer. Assume that the first 3 layers of neurons are such that the correct output in the third layer (i.e., the old output layer) has activation at least 0.99, and incorrect outputs have activation less than 0.01.\n",
    "\n",
    "In summary the 4 outputs represent the 4 bits that span the space of 0-15 decimal integers. You need the \n",
    "\n",
    "first bit to be active if the output is odd and inactive if even. \n",
    "second bit: if greater than 1: active if odd, inactive if even\n",
    "third: if greater than 3: ditto\n",
    "forth: if greater than 7 ditto\n",
    "\n",
    "this means that the first output only weights the first two neurons of the previous layer. second output weight the 2nd two. 3rd weights 4 inputs 4-7 (indexing starting at zero). and so on...."
   ],
   "cell_type": "markdown",
   "metadata": {}
  },
  {
   "cell_type": "code",
   "execution_count": null,
   "metadata": {},
   "outputs": [],
   "source": []
  }
 ]
}