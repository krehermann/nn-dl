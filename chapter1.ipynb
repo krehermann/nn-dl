{
 "metadata": {
  "language_info": {
   "codemirror_mode": {
    "name": "ipython",
    "version": 3
   },
   "file_extension": ".py",
   "mimetype": "text/x-python",
   "name": "python",
   "nbconvert_exporter": "python",
   "pygments_lexer": "ipython3",
   "version": "3.7.9-final"
  },
  "orig_nbformat": 2,
  "kernelspec": {
   "name": "python37964bitqc375f9fb7eeb1934e419a8baaab3bb1a500",
   "display_name": "Python 3.7.9 64-bit ('qc-3.7')",
   "language": "python"
  }
 },
 "nbformat": 4,
 "nbformat_minor": 2,
 "cells": [
  {
   "cell_type": "code",
   "execution_count": 2,
   "metadata": {},
   "outputs": [
    {
     "output_type": "stream",
     "name": "stdout",
     "text": [
      "yo\n"
     ]
    }
   ],
   "source": [
    "#Follow along exercises with http://neuralnetworksanddeeplearning.com/chap1.html\n",
    "print(\"yo\")"
   ]
  },
  {
   "source": [
    "Does this render in github?\n"
   ],
   "cell_type": "markdown",
   "metadata": {}
  },
  {
   "source": [
    "Notes:\n",
    "Perceptrons sufficient for universal computation because the can implement NAND. Kinda cool way to introduce them\n",
    "\n",
    "$$w \\cdot x = \\sum w_j x_j$$\n",
    "\n",
    "Exercise: NAND gate for addition\n",
    "TODO: hack latex drawing here\n",
    "x1 x2  a == NAND(x1,x2) b == NAND(x1,a) c== NAND(x2,a) low_bit == NAND(b,c) carry_bit== NAND(a,a)  result   base10\n",
    "0  0        1            1                  1               0                   0                   00          0\n",
    "0  1        1            1                  0               1                   0                   01          1\n",
    "1  1        0            1                  1               0                   1                   10          2\n",
    "\n",
    "Since Perceptrons can implment NAND, the can do this too\n"
   ],
   "cell_type": "markdown",
   "metadata": {}
  },
  {
   "source": [
    "Exercise: Sigmoid neurons simulating perceptrons, part I \n",
    "Suppose we take all the weights and biases in a network of perceptrons, and multiply them by a positive constant, c>0. Show that the behaviour of the network doesn't change.\n",
    "\n",
    "The activation are invariant under constant rescaling since you can write\n",
    "$$w \\cdot x > b $$\n",
    "\n",
    "and $$w \\cdot x >b \\implies K(w \\cdot x) > Kb$$"
   ],
   "cell_type": "markdown",
   "metadata": {}
  },
  {
   "source": [
    "Exercise: Sigmoid neurons simulating perceptrons, part II \n",
    "Suppose we have the same setup as the last problem - a network of perceptrons. Suppose also that the overall input to the network of perceptrons has been chosen. We won't need the actual input value, we just need the input to have been fixed. Suppose the weights and biases are such that w⋅x+b≠0 for the input x to any particular perceptron in the network. Now replace all the perceptrons in the network by sigmoid neurons, and multiply the weights and biases by a positive constant c>0. Show that in the limit as c→∞ the behaviour of this network of sigmoid neurons is exactly the same as the network of perceptrons. How can this fail when w⋅x+b=0 for one of the perceptrons?\n",
    "\n",
    "Well, sigmoid neurons is given by\n",
    "$$\\sigma(z) = \\frac{1}{1+\\exp^{-z}} $$\n",
    "$$ \\lim_{z->\\infty} \\sigma \\rightarrow 0$$\n",
    "$$ \\lim_{z->-\\infty} \\sigma \\rightarrow 1$$\n",
    "and if $z = c w\\cdot x$ then the sigmoid limit become undefined as $|c| \\rightarrow \\infty$ and $w \\cdot x \\rightarrow 0$\n"
   ],
   "cell_type": "markdown",
   "metadata": {}
  },
  {
   "source": [
    "Exercis: There is a way of determining the bitwise representation of a digit by adding an extra layer to the three-layer network above. The extra layer converts the output from the previous layer into a binary representation, as illustrated in the figure below. Find a set of weights and biases for the new output layer. Assume that the first 3 layers of neurons are such that the correct output in the third layer (i.e., the old output layer) has activation at least 0.99, and incorrect outputs have activation less than 0.01.\n",
    "\n",
    "In summary the 4 outputs represent the 4 bits that span the space of 0-15 decimal integers. You need the \n",
    "\n",
    "first bit to be active if the output is odd and inactive if even. \n",
    "second bit: if greater than 1: active if odd, inactive if even\n",
    "third: if greater than 3: ditto\n",
    "forth: if greater than 7 ditto\n",
    "\n",
    "this means that the first output only weights the first two neurons of the previous layer. second output weight the 2nd two. 3rd weights 4 inputs 4-7 (indexing starting at zero). and so on...."
   ],
   "cell_type": "markdown",
   "metadata": {}
  },
  {
   "cell_type": "code",
   "execution_count": 3,
   "metadata": {},
   "outputs": [],
   "source": [
    "import numpy as np\n",
    "\n",
    "class Network(object):\n",
    "\n",
    "    def __init__(self, layer_dims):\n",
    "        self.num_layers = len(layer_dims)\n",
    "        self.layer_dims = layer_dims\n",
    "        # start at 1 b/c layer_dims include the input layer at index 0\n",
    "        #biases are vectors,  i.e. matrices with of n x 1, with n == number of neurons in layer\n",
    "        self.biases = [np.random.randn(y,1) for y in sizes[1:]] #randn is gaussian mean 0 var 1\n",
    "        # weight are matrices of m x n connecting layers n and m where n<m, m=n+1: \n",
    "        # w^nm_jk => kth neuron in nth layer to jth in m  \n",
    "        self.weights = [np.random.randn(y,x) for x, y in zip(sizes[:-1],sizes[1:])]\n",
    "\n",
    "    def feedfoward(self,a):\n",
    "        '''Return output of network given a\n",
    "        '''\n",
    "\n",
    "        for b, w in zip(self.biases,self.weights):\n",
    "            activaitons = sigmoid(np.dot(w,a)+b)\n",
    "\n",
    "        return activaitons\n",
    "\n",
    "    def sgd(self, training_data, epochs, mini_batch_size, learning_rate, test_data=None):\n",
    "        '''Train network with stochastic gradient descent.\n",
    "\n",
    "        '''\n",
    "\n",
    "        if test_data:\n",
    "            n_test = len(test_data)\n",
    "\n",
    "        n = len(training_data)\n",
    "        for j in range(epochs):\n",
    "            random.shuffle(training_data)\n",
    "            mini_batches = [training_data[k:k+mini_batch_size] for k in range(0,n, mini_batch_size)]\n",
    "            for mini_batch in mini_batches:\n",
    "                self.update(mini_batch, learning_rate)\n",
    "            if test_data:\n",
    "                print(\"epoch {}: {}/{}\".format(j, self.evaluate(test_data,n_test)))\n",
    "            else:\n",
    "                print(\"epoch {} complete\".format(j))\n",
    "\n",
    "\n",
    "    def update(self, mini_batch, learning_rate):\n",
    "        del_b = [np.zeros(b.shape) for b in self.biases]\n",
    "        del_w =[np.zeros(w.shape) for w in self.weights]\n",
    "\n",
    "        for x, y in mini_batch:\n",
    "            delta_del_b, delta_del_w = self.backprop(x,y)\n",
    "            del_b = [d_b + delta_d_b in zip(del_b, delta_del_b)]\n",
    "            del_w = [d_w + delta_d_w in zip(del_w, delta_del_w)]\n",
    "        self.weights = [w -learning_rate/len(mini_batch)*d_w for w,d_w in zip(self.weights, del_w)]\n",
    "        self.biases = [b -learning_rate/len(mini_batch)*d_b for b,d_b in zip(self.biases, del_b)]\n",
    "        \n",
    "\n",
    "\n",
    "def sigmoid(z):\n",
    "    return 1.0/(1.0 + np.exp(-z))"
   ]
  },
  {
   "source": [
    "The matrix ordering of the weights above is odd at first glance:\n",
    "$$w^{nm}_{jk} | m=n+1 \\& j \\in {dim(m)} k \\in {dim{n}} $$\n",
    "Why this convention?\n",
    "\n",
    "The activations are easy to write:\n",
    "$$a^{'} = \\sigma(w \\cdot a + b)$$\n",
    "\n",
    "Let's see this for myself\n",
    "$$ w \\cdot a = \\sum_{j} w_{ij} a_j $$\n",
    "$$ \\sigma(w \\cdot a + b) = \\sigma(\\sum_{j} w_{ij} a_j + b_i ) $$ \n",
    "\n",
    "now, if i want to be able to compute the upstream activation, the index ${i}$ needs to be from the layer upstream of the ${j}$ index. With this convention, i can compute the activations of the layer by applying the sigmoid function element wise:\n",
    "\n",
    "\n",
    "$$a^{m}_i = \\sigma(w^n_{ij}*a^n_j + b^{m}_i}$$\n"
   ],
   "cell_type": "code",
   "metadata": {},
   "execution_count": null,
   "outputs": []
  },
  {
   "source": [
    "Exercise: An extreme version of gradient descent is to use a mini-batch size of just 1. That is, given a training input, x, we update our weights and biases according to the rules wk→w′k=wk−η∂Cx/∂wk and bl→b′l=bl−η∂Cx/∂bl. Then we choose another training input, and update the weights and biases again. And so on, repeatedly. This procedure is known as online, on-line, or incremental learning. In online learning, a neural network learns from just one training input at a time (just as human beings do). Name one advantage and one disadvantage of online learning, compared to stochastic gradient descent with a mini-batch size of, say, 20. \n",
    "\n",
    "Batch size of one is easy and cheap to compute, but a single example may have significant impact on the convergence. Naively, it also seems like the ordering of the samples is important in that if you sample a couple of 'weird' events first then it may take while to learn that those events are on the tail of some distribution. Not sure how to quantify this idea...\n"
   ],
   "cell_type": "markdown",
   "metadata": {}
  },
  {
   "cell_type": "code",
   "execution_count": 7,
   "metadata": {},
   "outputs": [
    {
     "output_type": "execute_result",
     "data": {
      "text/plain": [
       "array([0.5       , 0.73105858, 0.88079708, 0.95257413])"
      ]
     },
     "metadata": {},
     "execution_count": 7
    }
   ],
   "source": [
    "# sigmoid is automatically element-wise/vectorized by use of np in the defn\n",
    "sigmoid(np.array([0,1,2,3]))"
   ]
  },
  {
   "cell_type": "code",
   "execution_count": null,
   "metadata": {},
   "outputs": [],
   "source": []
  }
 ]
}